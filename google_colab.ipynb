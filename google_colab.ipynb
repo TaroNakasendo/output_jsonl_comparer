{
 "cells": [
  {
   "cell_type": "markdown",
   "metadata": {},
   "source": [
    "### ファインチューン結果の比較ツール　[![Open In Colab](https://colab.research.google.com/assets/colab-badge.svg)](http://colab.research.google.com/github/TaroNakasendo/output_jsonl_comparer/blob/main/google_colab.ipynb)"
   ]
  },
  {
   "cell_type": "code",
   "execution_count": null,
   "metadata": {},
   "outputs": [],
   "source": [
    "# 準備\n",
    "%pip install -q gradio"
   ]
  },
  {
   "cell_type": "markdown",
   "metadata": {},
   "source": [
    "比較したい２つのJSONLファイルをアップロードしてください"
   ]
  },
  {
   "cell_type": "code",
   "execution_count": null,
   "metadata": {},
   "outputs": [],
   "source": [
    "# 比較したい2つの結果ファイルへのパスを指定してください\n",
    "output_files = {\"old\": \"20241129000000.jsonl\", \"now\": \"20241130140000.jsonl\"}"
   ]
  },
  {
   "cell_type": "markdown",
   "metadata": {},
   "source": [
    "メインの処理"
   ]
  },
  {
   "cell_type": "code",
   "execution_count": null,
   "metadata": {},
   "outputs": [],
   "source": [
    "import gradio as gr\n",
    "import json\n",
    "\n",
    "title = \"ファインチューン結果の比較ツール\"\n",
    "\n",
    "def main():\n",
    "\n",
    "    # JSONL読込\n",
    "    def load_jsonl(key):\n",
    "        with open(output_files[key], \"r\", encoding=\"utf-8\") as f:\n",
    "            return [json.loads(line) for line in f]\n",
    "\n",
    "    # データ展開\n",
    "    data = [\n",
    "        (o[\"task_id\"], o[\"input\"], o[\"output\"], n[\"output\"])\n",
    "        for o, n in zip(load_jsonl(\"old\"), load_jsonl(\"now\"))\n",
    "    ]\n",
    "\n",
    "    shortcut_js = \"\"\"\n",
    "<script>\n",
    "function shortcuts(e) {\n",
    "    if (e.key ==  'ArrowLeft') {\n",
    "        document.getElementById(\"prev_button\").click();\n",
    "    }\n",
    "    else if (e.key == 'ArrowRight') {\n",
    "        document.getElementById(\"next_button\").click();\n",
    "    }\n",
    "}\n",
    "document.addEventListener('keyup', shortcuts, false);\n",
    "</script>\n",
    "\"\"\"\n",
    "\n",
    "    with gr.Blocks(title=title, head=shortcut_js) as demo:\n",
    "\n",
    "        # 画面の配置\n",
    "        gr.Markdown(f\"# {title}\")\n",
    "        with gr.Row():\n",
    "            task_id = gr.Textbox(label=f\"タスクID (0 - {len(data) - 1})\")\n",
    "            prev_button = gr.Button(\"＜ 前のタスク\", elem_id=\"prev_button\")\n",
    "            next_button = gr.Button(\"次のタスク ＞\", elem_id=\"next_button\")\n",
    "        input_text = gr.Textbox(label=\"入力\", interactive=False)\n",
    "        with gr.Row():\n",
    "            output_old = gr.Textbox(\n",
    "                label=f\"{output_files.get('old')}の出力\", interactive=False\n",
    "            )\n",
    "            output_now = gr.Textbox(\n",
    "                label=f\"{output_files.get('now')}の出力\", interactive=False\n",
    "            )\n",
    "\n",
    "        # データ取得\n",
    "        idx = gr.State(0)\n",
    "\n",
    "        def get_data(i):\n",
    "            return data[i]\n",
    "\n",
    "        def get_data_by_task_id(task_id):\n",
    "            i = (\n",
    "                int(task_id)\n",
    "                if task_id.isdigit() and 0 <= int(task_id) < len(data)\n",
    "                else 0\n",
    "            )\n",
    "            return i, *data[i]\n",
    "\n",
    "        # 動作の設定\n",
    "        task_id.submit(\n",
    "            get_data_by_task_id,\n",
    "            task_id,\n",
    "            [idx, task_id, input_text, output_old, output_now],\n",
    "        )\n",
    "\n",
    "        prev_button.click(lambda x: max(0, x - 1), idx, idx).then(\n",
    "            get_data, idx, [task_id, input_text, output_old, output_now]\n",
    "        )\n",
    "\n",
    "        next_button.click(lambda x: min(len(data) - 1, x + 1), idx, idx).then(\n",
    "            get_data, idx, [task_id, input_text, output_old, output_now]\n",
    "        )\n",
    "\n",
    "        demo.load(get_data, idx, [task_id, input_text, output_old, output_now])\n",
    "\n",
    "    demo.launch()\n",
    "\n",
    "\n",
    "main()\n"
   ]
  },
  {
   "cell_type": "markdown",
   "metadata": {},
   "source": [
    "Gradioの画面が表示されますが狭いので、表示されている`https://xxxxxxxxxxxxxxxxx.gradio.live`へのリンクを開くと大きな画面で操作することができます。"
   ]
  }
 ],
 "metadata": {
  "language_info": {
   "name": "python"
  }
 },
 "nbformat": 4,
 "nbformat_minor": 2
}
